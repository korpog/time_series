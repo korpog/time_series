{
 "cells": [
  {
   "cell_type": "code",
   "execution_count": 2,
   "metadata": {},
   "outputs": [],
   "source": [
    "import pandas as pd"
   ]
  },
  {
   "cell_type": "code",
   "execution_count": 3,
   "metadata": {},
   "outputs": [
    {
     "name": "stderr",
     "output_type": "stream",
     "text": [
      "/tmp/ipykernel_21261/3288087534.py:1: FutureWarning: The argument 'infer_datetime_format' is deprecated and will be removed in a future version. A strict version of it is now the default, see https://pandas.pydata.org/pdeps/0004-consistent-to-datetime-parsing.html. You can safely remove this argument.\n",
      "  df = pd.read_csv(\"air_data.csv\", infer_datetime_format=True)\n"
     ]
    }
   ],
   "source": [
    "df = pd.read_csv(\"air_data.csv\", infer_datetime_format=True)\n",
    "df = df['location_name', 'parameter', 'value', 'unit', 'datetimeLocal', ]\n"
   ]
  },
  {
   "cell_type": "code",
   "execution_count": 5,
   "metadata": {},
   "outputs": [
    {
     "data": {
      "text/plain": [
       "location_id        int64\n",
       "location_name     object\n",
       "parameter         object\n",
       "value            float64\n",
       "unit              object\n",
       "datetimeUtc       object\n",
       "datetimeLocal     object\n",
       "timezone          object\n",
       "latitude         float64\n",
       "longitude        float64\n",
       "country_iso      float64\n",
       "isMobile         float64\n",
       "isMonitor        float64\n",
       "owner_name        object\n",
       "provider          object\n",
       "dtype: object"
      ]
     },
     "execution_count": 5,
     "metadata": {},
     "output_type": "execute_result"
    }
   ],
   "source": []
  }
 ],
 "metadata": {
  "kernelspec": {
   "display_name": ".env",
   "language": "python",
   "name": "python3"
  },
  "language_info": {
   "codemirror_mode": {
    "name": "ipython",
    "version": 3
   },
   "file_extension": ".py",
   "mimetype": "text/x-python",
   "name": "python",
   "nbconvert_exporter": "python",
   "pygments_lexer": "ipython3",
   "version": "3.10.12"
  }
 },
 "nbformat": 4,
 "nbformat_minor": 2
}
